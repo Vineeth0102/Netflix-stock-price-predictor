{
 "cells": [
  {
   "cell_type": "code",
   "execution_count": 2,
   "metadata": {},
   "outputs": [
    {
     "name": "stdout",
     "output_type": "stream",
     "text": [
      "<class 'pandas.core.frame.DataFrame'>\n",
      "RangeIndex: 1009 entries, 0 to 1008\n",
      "Data columns (total 7 columns):\n",
      " #   Column     Non-Null Count  Dtype  \n",
      "---  ------     --------------  -----  \n",
      " 0   Date       1009 non-null   object \n",
      " 1   Open       1009 non-null   float64\n",
      " 2   High       1009 non-null   float64\n",
      " 3   Low        1009 non-null   float64\n",
      " 4   Close      1009 non-null   float64\n",
      " 5   Adj Close  1009 non-null   float64\n",
      " 6   Volume     1009 non-null   int64  \n",
      "dtypes: float64(5), int64(1), object(1)\n",
      "memory usage: 55.3+ KB\n",
      "<class 'pandas.core.frame.DataFrame'>\n",
      "RangeIndex: 1009 entries, 0 to 1008\n",
      "Data columns (total 7 columns):\n",
      " #   Column     Non-Null Count  Dtype         \n",
      "---  ------     --------------  -----         \n",
      " 0   Date       1009 non-null   datetime64[ns]\n",
      " 1   Open       1009 non-null   float64       \n",
      " 2   High       1009 non-null   float64       \n",
      " 3   Low        1009 non-null   float64       \n",
      " 4   Close      1009 non-null   float64       \n",
      " 5   Adj Close  1009 non-null   float64       \n",
      " 6   Volume     1009 non-null   int64         \n",
      "dtypes: datetime64[ns](1), float64(5), int64(1)\n",
      "memory usage: 55.3 KB\n",
      "        Date        Open        High         Low       Close    Volume\n",
      "0 2018-02-05  262.000000  267.899994  250.029999  254.259995  11896100\n",
      "1 2018-02-06  247.699997  266.700012  245.000000  265.720001  12595800\n",
      "2 2018-02-07  266.579987  272.450012  264.329987  264.559998   8981500\n",
      "3 2018-02-08  267.079987  267.619995  250.000000  250.100006   9306700\n",
      "4 2018-02-09  253.850006  255.800003  236.110001  249.470001  16906900\n"
     ]
    }
   ],
   "source": [
    "import numpy as np\n",
    "import pandas as pd\n",
    "from datetime import datetime\n",
    "\n",
    "# Load the data\n",
    "df = pd.read_csv(r\"NFLX.csv\")\n",
    "df.info()\n",
    "\n",
    "# Convert the 'Date' column to datetime\n",
    "df['Date'] = df['Date'].apply(lambda x: datetime.strptime(x, '%Y-%m-%d'))\n",
    "df.info()\n",
    "\n",
    "# Drop the 'Adj Close' column\n",
    "df = df.drop(['Adj Close'], axis=1)\n",
    "print(df.head())\n"
   ]
  },
  {
   "cell_type": "code",
   "execution_count": 3,
   "metadata": {},
   "outputs": [
    {
     "name": "stdout",
     "output_type": "stream",
     "text": [
      "         Open        High         Low    Volume\n",
      "0  262.000000  267.899994  250.029999  11896100\n",
      "1  247.699997  266.700012  245.000000  12595800\n",
      "2  266.579987  272.450012  264.329987   8981500\n",
      "3  267.079987  267.619995  250.000000   9306700\n",
      "4  253.850006  255.800003  236.110001  16906900\n",
      "           Open        High         Low   Volume\n",
      "733  539.000000  540.799988  515.090027  4444400\n",
      "734  521.549988  526.780029  515.890015  3133900\n",
      "735  511.970001  513.099976  499.500000  5346200\n",
      "736  508.279999  516.440002  506.420013  3686400\n",
      "737  511.309998  513.239990  504.510010  2973900\n"
     ]
    }
   ],
   "source": [
    "# Split the data into training and testing sets\n",
    "x_train = df.drop(labels='Close', axis=1)[df['Date'].dt.year < 2021]\n",
    "x_test = df.drop(labels='Close', axis=1)[df['Date'].dt.year >= 2021]\n",
    "\n",
    "y_train = df[df['Date'].dt.year < 2021]['Close'].values\n",
    "y_test = df[df['Date'].dt.year >= 2021]['Close'].values\n",
    "\n",
    "# Drop the 'Date' column from training and testing sets\n",
    "x_train.drop(labels='Date', axis=1, inplace=True)\n",
    "x_test.drop(labels='Date', axis=1, inplace=True)\n",
    "\n",
    "print(x_train.head())\n",
    "print(x_test.head())\n"
   ]
  },
  {
   "cell_type": "code",
   "execution_count": 90,
   "metadata": {},
   "outputs": [
    {
     "name": "stdout",
     "output_type": "stream",
     "text": [
      "----------Linear Regression Model Evaluation-----------\n",
      "Mean Absolute Error (MAE): 3.1132978579900707\n",
      "Mean Squared Error (MSE): 17.036128617517225\n",
      "Root Mean Squared Error (RMSE): 4.127484538737513\n",
      "Test Score: 0.9955930255807364\n",
      "Train Score: 0.9974448683406483\n"
     ]
    }
   ],
   "source": [
    "from sklearn.linear_model import LinearRegression\n",
    "from sklearn.metrics import mean_absolute_error as mae, mean_squared_error as mse\n",
    "\n",
    "# Train the Linear Regression model\n",
    "linear_regressor = LinearRegression()\n",
    "linear_regressor.fit(x_train, y_train)\n",
    "\n",
    "# Make predictions\n",
    "y_pred_lr = linear_regressor.predict(x_test)\n",
    "\n",
    "# Evaluate the model\n",
    "print(\"----------Linear Regression Model Evaluation-----------\")\n",
    "print(\"Mean Absolute Error (MAE): {}\".format(mae(y_test, y_pred_lr)))\n",
    "print(\"Mean Squared Error (MSE): {}\".format(mse(y_test, y_pred_lr)))\n",
    "print(\"Root Mean Squared Error (RMSE): {}\".format(np.sqrt(mse(y_test, y_pred_lr))))\n",
    "print(\"Test Score: {}\".format(linear_regressor.score(x_test, y_test)))\n",
    "print(\"Train Score: {}\".format(linear_regressor.score(x_train, y_train)))\n"
   ]
  },
  {
   "cell_type": "code",
   "execution_count": 92,
   "metadata": {},
   "outputs": [
    {
     "name": "stdout",
     "output_type": "stream",
     "text": [
      "<class 'sklearn.linear_model._base.LinearRegression'>\n"
     ]
    }
   ],
   "source": [
    "import pickle\n",
    "\n",
    "# Save the Linear Regression model\n",
    "with open('NetflixPred.pkl', 'wb') as file:\n",
    "    pickle.dump(linear_regressor, file)\n",
    "\n",
    "print(type(linear_regressor))\n"
   ]
  },
  {
   "cell_type": "code",
   "execution_count": 91,
   "metadata": {},
   "outputs": [
    {
     "name": "stdout",
     "output_type": "stream",
     "text": [
      "Closing value of the stock is 0.65\n"
     ]
    }
   ],
   "source": [
    "def predict_close(Open=50.0, High=100.0, Low=0.0, Volume=4444400):\n",
    "    temp_array = [Open, High, Low, Volume]\n",
    "    feature_names = ['Open', 'High', 'Low', 'Volume']\n",
    "    temp_df = pd.DataFrame([temp_array], columns=feature_names)\n",
    "    return linear_regressor.predict(temp_df)[0]\n",
    "\n",
    "# Input from the user\n",
    "opening_price = float(input(\"Enter the opening value of the stock: \"))\n",
    "low = float(input(\"Enter the lowest value of the stock: \"))\n",
    "high = float(input(\"Enter the highest value of the stock: \"))\n",
    "volume = int(input(\"Enter the volume of the stock available: \"))\n",
    "\n",
    "# Predict the closing value\n",
    "closing_value = predict_close(opening_price, high, low, volume)\n",
    "print('Closing value of the stock is', closing_value.round(2))\n"
   ]
  },
  {
   "cell_type": "code",
   "execution_count": null,
   "metadata": {},
   "outputs": [],
   "source": []
  },
  {
   "cell_type": "code",
   "execution_count": null,
   "metadata": {},
   "outputs": [],
   "source": []
  }
 ],
 "metadata": {
  "kernelspec": {
   "display_name": "Python 3",
   "language": "python",
   "name": "python3"
  },
  "language_info": {
   "codemirror_mode": {
    "name": "ipython",
    "version": 3
   },
   "file_extension": ".py",
   "mimetype": "text/x-python",
   "name": "python",
   "nbconvert_exporter": "python",
   "pygments_lexer": "ipython3",
   "version": "3.11.0"
  }
 },
 "nbformat": 4,
 "nbformat_minor": 2
}
